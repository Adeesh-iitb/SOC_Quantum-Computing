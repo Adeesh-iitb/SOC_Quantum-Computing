{
 "cells": [
  {
   "cell_type": "code",
   "execution_count": 3,
   "id": "0296d76c",
   "metadata": {},
   "outputs": [
    {
     "data": {
      "text/plain": [
       "{(0,\n",
       "  0): Statevector([ 1.00000000e+00+0.j, -2.23711432e-17+0.j,  0.00000000e+00+0.j,\n",
       "               0.00000000e+00+0.j],\n",
       "             dims=(2, 2)),\n",
       " (0,\n",
       "  1): Statevector([-2.23711432e-17+0.j,  1.00000000e+00+0.j,  0.00000000e+00+0.j,\n",
       "               0.00000000e+00+0.j],\n",
       "             dims=(2, 2)),\n",
       " (1,\n",
       "  0): Statevector([ 0.00000000e+00+0.j,  0.00000000e+00+0.j,  1.00000000e+00+0.j,\n",
       "              -2.23711432e-17+0.j],\n",
       "             dims=(2, 2)),\n",
       " (1,\n",
       "  1): Statevector([ 0.00000000e+00+0.j,  0.00000000e+00+0.j, -2.23711432e-17+0.j,\n",
       "               1.00000000e+00+0.j],\n",
       "             dims=(2, 2))}"
      ]
     },
     "execution_count": 3,
     "metadata": {},
     "output_type": "execute_result"
    }
   ],
   "source": [
    "from qiskit import QuantumCircuit, QuantumRegister, ClassicalRegister\n",
    "from qiskit.quantum_info import Statevector\n",
    "\n",
    "\n",
    "\n",
    "def superdense_coding_circuit(b1, b2):\n",
    "    q = QuantumRegister(2)\n",
    "    c = ClassicalRegister(2)\n",
    "    qc = QuantumCircuit(q, c)\n",
    "    \n",
    "    qc.h(q[0])\n",
    "    qc.cx(q[0], q[1])\n",
    "    \n",
    "    if b1 == 1:\n",
    "        qc.x(q[0])\n",
    "    if b2 == 1:\n",
    "        qc.z(q[0])\n",
    "    \n",
    "    qc.cx(q[0], q[1])\n",
    "    qc.h(q[0])\n",
    "    \n",
    "    return qc\n",
    "\n",
    "\n",
    "results = {}\n",
    "for b1 in [0, 1]:\n",
    "    for b2 in [0, 1]:\n",
    "        qc = superdense_coding_circuit(b1, b2)\n",
    "        sv = Statevector.from_instruction(qc)\n",
    "        results[(b1, b2)] = sv\n",
    "results"
   ]
  },
  {
   "cell_type": "code",
   "execution_count": 26,
   "id": "f6f8f625",
   "metadata": {},
   "outputs": [
    {
     "data": {
      "image/png": "[encoded data removed]",
      "text/plain": [
       "<Figure size 640x480 with 1 Axes>"
      ]
     },
     "execution_count": 26,
     "metadata": {},
     "output_type": "execute_result"
    }
   ],
   "source": [
    "from qiskit import QuantumCircuit, transpile\n",
    "from qiskit.visualization import plot_histogram\n",
    "from qiskit_aer import AerSimulator\n",
    "from qiskit_ibm_runtime import Sampler\n",
    "\n",
    "\n",
    "qc = QuantumCircuit(2, 2)\n",
    "qc.x(0) \n",
    "qc.x(1)  \n",
    "qc.measure([0, 1], [0, 1]) \n",
    "\n",
    "backend = AerSimulator()\n",
    "qc_compiled = transpile(qc, backend)\n",
    "job_sim = backend.run(qc_compiled, shots=1024)\n",
    "result_sim = job_sim.result()\n",
    "counts = result_sim.get_counts(qc_compiled)\n",
    "plot_histogram(counts)\n",
    "\n",
    "\n",
    "\n",
    "\n"
   ]
  },
  {
   "cell_type": "code",
   "execution_count": 27,
   "id": "7189af56",
   "metadata": {},
   "outputs": [
    {
     "name": "stderr",
     "output_type": "stream",
     "text": [
      "C:\\Users\\Adeesh\\AppData\\Local\\Temp\\ipykernel_28072\\1640151886.py:12: DeprecationWarning: The \"ibm_quantum\" channel option is deprecated and will be sunset on 1 July. After this date, \"ibm_cloud\", \"ibm_quantum_platform\", and \"local\" will be the only valid channels. Open Plan users should migrate now.  All other users should review the migration guide (https://quantum.cloud.ibm.com/docs/migration-guides/classic-iqp-to-cloud-iqp)to learn when to migrate.\n",
      "  service = QiskitRuntimeService()\n",
      "c:\\Users\\Adeesh\\miniconda3\\envs\\soc\\Lib\\site-packages\\qiskit_ibm_runtime\\qiskit_runtime_service.py:1129: UserWarning: IBM Quantum Platform is moving, and this version will be sunset on July 1. To get started on the new platform, read the migration guide at https://docs.quantum.ibm.com/migration-guides/classic-iqp-to-cloud-iqp\n",
      "  warnings.warn(warning_message)\n"
     ]
    },
    {
     "data": {
      "image/png": "[encoded data removed]",
      "text/plain": [
       "<Figure size 640x480 with 1 Axes>"
      ]
     },
     "execution_count": 27,
     "metadata": {},
     "output_type": "execute_result"
    }
   ],
   "source": [
    "from qiskit import QuantumCircuit, transpile\n",
    "from qiskit.visualization import plot_histogram\n",
    "from qiskit_aer import AerSimulator\n",
    "from qiskit_ibm_runtime import Sampler\n",
    "\n",
    "\n",
    "qc = QuantumCircuit(2, 2)\n",
    "qc.x(0) \n",
    "qc.x(1)  \n",
    "qc.measure([0, 1], [0, 1]) \n",
    "from qiskit_ibm_runtime import QiskitRuntimeService\n",
    "service = QiskitRuntimeService()\n",
    "\n",
    "backend = service.least_busy(operational=True, min_num_qubits=5)\n",
    "qc_compiled = transpile(qc, backend, optimization_level=2)\n",
    "sampler = Sampler(mode=backend)\n",
    "\n",
    "job = sampler.run([qc_compiled],shots=1024)\n",
    "result = job.result()\n",
    "pub_result = result[0]\n",
    "counts = pub_result.data.c.get_counts()\n",
    "plot_histogram(counts)\n",
    "\n"
   ]
  },
  {
   "cell_type": "code",
   "execution_count": null,
   "id": "d7bdd86c",
   "metadata": {},
   "outputs": [],
   "source": []
  }
 ],
 "metadata": {
  "kernelspec": {
   "display_name": "soc",
   "language": "python",
   "name": "python3"
  },
  "language_info": {
   "codemirror_mode": {
    "name": "ipython",
    "version": 3
   },
   "file_extension": ".py",
   "mimetype": "text/x-python",
   "name": "python",
   "nbconvert_exporter": "python",
   "pygments_lexer": "ipython3",
   "version": "3.13.5"
  }
 },
 "nbformat": 4,
 "nbformat_minor": 5
}
